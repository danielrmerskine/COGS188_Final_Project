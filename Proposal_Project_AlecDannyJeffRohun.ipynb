{
 "cells": [
  {
   "attachments": {},
   "cell_type": "markdown",
   "metadata": {},
   "source": [
    "# COGS 188 - Project Proposal"
   ]
  },
  {
   "attachments": {},
   "cell_type": "markdown",
   "metadata": {},
   "source": [
    "# Project Description\n",
    "The project focuses on creating a neural network model which clusters prostate cancer data to help better differentiate between cancerous and non-cancerous cases. The model utilizes deep learning methods to detect essential features and connections in the dataset which help in diagnosing prostate cancer. TensorFlow or PyTorch will serve as the frameworks to construct the neural network. Performance metrics including accuracy, precision, recall, and F1-score will assess the model while comparing it to established machine learning approaches like logistic regression and random forests. Interpretability techniques will be used to analyze which features most strongly affect diagnosis results. The neural network developed should achieve high performance while supporting in detecting prostate cancer early while minimizing diagnostic errors. The design of the project is inspired by background research from reputable sources and will be used to help achieve our goals.\n",
    "\n"
   ]
  },
  {
   "cell_type": "markdown",
   "metadata": {},
   "source": [
    "# Names\n",
    "\n",
    "Hopefully your team is at least this good. Obviously you should replace these with your names.\n",
    "\n",
    "- Daniel Erskine\n",
    "- Alec Slim\n",
    "- Jeff Ung\n",
    "- Rohun Kulshrestha\n"
   ]
  },
  {
   "cell_type": "markdown",
   "metadata": {},
   "source": [
    "# Abstract \n",
    "Prostate cancer is one of the most common cancers among men and a leading cause of cancer-related deaths. Therefore, early and accurate detection is critical for improving patient outcomes. That is why in this project, we aim to develop a neural network-based unsupervised learning model to identify distinct patient clusters based on medical history, lifestyle factors, and clinical test results. We will use a dataset containing 27,945 observations and 30 variables, including PSA levels, family history, biopsy results, and other relevant health metrics. Model performance will be evaluated using cluster coherence metrics such as silhouette scores and by assessing the alignment of clusters with known benign and malignant cases to extract meaningful insights. Additionally, we will explore explainability methods to understand key factors influencing cluster formation. Our goal is to create a robust, data-driven diagnostic tool that could assist healthcare professionals in improving prostate cancer detection and informing treatment strategies."
   ]
  },
  {
   "attachments": {},
   "cell_type": "markdown",
   "metadata": {},
   "source": [
    "# Background\n",
    "\n",
    "Prostate cancer is the second most common type of cancer to develop and the second leading cause of cancer death in men in the United States. Some of the methods of diagnosis for prostate cancer like a digital rectal exam or prostate biopsy are quite invasive and can be subject to human error. Neural networks give us the opportunity to use a more data-driven approach by analyzing medical and family history. Here are some examples of past work that researchers have done to use AI-powered tools to enhance prostate cancer treatment, which greatly helps the ability of healthcare professionals to detect the cancer early and decide possible treatment strategies.\n",
    "\n",
    "The first resource<a name=”note1”></a>[<sup>[1]</sup>](#note1) I found related to this project had a very method of predicting whether a patient’s prostate cancer was benign or malignant. Roffman and his fellow researchers used a multiparameterized neural network that uses patient health information to predict the risk of prostate cancer. The team concluded that their neural network demonstrated high specificity and low sensitivity so it could potentially be used as a non-invasive method for cancer risk assessment. We hope to create more relevant neural network compared to Roffman and his team due to our dataset being much more up to date (Roffman’s dataset contained data from 1997 to 2015 and ours is from 2019 to 2024) and our dataset has a much higher rate of malignant tumors (Roffman’s dataset contained about 1.6% malignant tumors and ours has 30% malignant tumors). We hope to expand on Roffman and his team’s research.\n",
    "\n",
    "The next resource<a name=”note2”></a>[<sup>[2]</sup>](#note2) I found related to this project is similar to the previous project except Esteban and his team use far more modeling techniques (classification tree, random first, neural networks, and more) compared to Roffman. Their dataset is based on 4799 patients in Catalonia, Spain, which is less than one twentieth of the size of Rothman’s dataset: this is slightly concerning. Esteban and his team used a 80-20% training and validation split. The modeling technique with the best performance was XGBoost. The most influential parameters on the result were digital rectal examination and family history, which makes sense logically.\n",
    "\n",
    "The third resource we explored <a name=”note3”></a>[<sup>[3]</sup>](#note3) was a study where Talaat and her team used a convolutional neural network (ResNet50) with a large dataset of annotated medical images for early detection of prostate cancer. Talaat and her team’s model achieved an accuracy rate of 95.24%. The study also discussed the ethical implications of balancing overdiagnosis and early detection and how it is still debated. \n",
    "\n",
    "The fourth resource<a name=”note4”></a>[<sup>[4]</sup>](#note4) we dove into reviewed the current landscape of using AI-powered diagnostic tools to help give clinicians valuable insights from medical data that could be used to improve patient outcomes. Although the authors of this research did not create any machine learning models like the previously mentioned studies, they gave us more knowledge as to what we can include in the ethics and privacy sections of our project. Agrawal concluded that although there is a bright future for these AI-powered tools, there are still regulatory hurdles and ethical considerations that we must consider as a society.\n",
    "\n",
    "The fifth resource<a name=”note5”></a>[<sup>[5]</sup>](#note5) is another review that did not include the creation of a machine learning model but instead gave us some insights as to the current state of using machine learning models in prostate cancer diagnosis. Olabanjo and his team found that the United States has the most research on prostate cancer diagnosis with machine learning, that magnetic resonance images are the most often used dataset when using datasets of images, and that the most common method of diagnosing prostate cancer is transfer learning. Four of the six researchers on Olabanjo’s team were from Nigeria and discussed how there is a higher prevalence and mortality rate of prostate cancer in developing countries.\n",
    "\n",
    "The final resource<a name=”note6”></a>[<sup>[6]</sup>](#note6) is yet another review performed by medical doctors and does not include any computer scientist creating machine learning models. Riaz and his team explored the role of AI in many different stages of prostate cancer medical treatment: prostate cancer drug discovery, clinical trials, and clinical practice guidelines. The authors also discussed how human-AI collaboration will become more and more symbiotic in cancer care and will be used to augment and enhance human decision making with accurate and real-time data. Human oversight and domain expertise was discussed to be hugely important in the discussion of using AI implementation for prostate cancer care. This review will further help us write the ethics and privacy section of our project due to the standards and ethical frameworks explored by Raiz and his team.\n",
    "\n",
    "Overall, we explored three studies that used AI implementations to detect prostate cancer in patients around the world and three reviews that will help our team consider the ethical concerns of allowing machine learning models to make decisions affecting the human body. Daniel Erskine’s (me) father is a radiologist and we asked him to explain some of the intricacies of these medical procedures so we gained more knowledge on the topic.\n",
    "\n"
   ]
  },
  {
   "cell_type": "markdown",
   "metadata": {},
   "source": [
    "# Problem Statement\n",
    "\n",
    "Our goal is to develop a more reliable, data-driven approach for early prostate cancer detection based on non-invasive patient data, including medical history, lifestyle factors, and clinical test results.\n",
    "\n",
    "We aim to achieve this goal by building an unsupervised machine learning model that can identify distinct patient clusters based on relevant health metrics. By analyzing patterns in the data, our model will group patients with similar characteristics, potentially revealing underlying subgroups that align with known benign and malignant cases. The problem is well-defined as a clustering task, where the model uncovers hidden structures in the dataset without explicit labels. It is quantifiable, as we can use structured patient data (e.g., PSA levels, biopsy results, genetic risk factors) to form meaningful clusters. The problem is measurable through evaluation metrics such as silhouette scores, Davies-Bouldin index, and cluster cohesion, ensuring clinical relevance. Lastly, the problem is replicable since prostate cancer diagnosis is a recurring medical challenge, and our methodology can be applied to other similar datasets for further validation and refinement."
   ]
  },
  {
   "cell_type": "markdown",
   "metadata": {},
   "source": [
    "# Data\n",
    "Dataset: https://www.kaggle.com/datasets/ankushpanday1/prostate-cancer-prediction-dataset\n",
    "\n",
    "This dataset has 27,945 observations and 30 variables. The variables consist of the following: Patient_ID, Age, Family_History, Race_African_Ancestry, PSA_Level, DRE_Result, Biopsy_Result, Difficulty_Urinating, Weak_Urine_Flow, Blood_in_Urine, Pelvic_Pain, Back_Pain, Erectile_Dysfunction, Cancer_Stage, Treatment_Recommended, Survival_5_Years, Exercise_Regularly, Healthy_Diet, BMI, Smoking_History, Alcohol_Consumption, Hypertension, Diabetes, Cholesterol_Level, Screening_Age, Follow_Up_Required, Prostate_Volume, Genetic_Risk_Factors,Previous_Cancer_History, Early_Detection. \n",
    "\n",
    "Each observation consists of patient information such as health metrics(BMI, PSA level, Age, ect.) as well as patient predispositions such as drinking and smoking history. Some of the critical variables are PSA level, Previous cancer, and prostate volume. The dataset does not need any cleaning or transformations at the moment because there are no missing values or incomplete observations but this may change depending on specific circumstances when designing the neural network."
   ]
  },
  {
   "cell_type": "markdown",
   "metadata": {},
   "source": [
    "# Proposed Solution\n",
    "To address our problem, we propose using an unsupervised Neural Network to explore the lantent patterns within the biomarkers dataset. By using an autoencoder, our goal is to find out any meaningful patterns and groupings in the data that may indicate underlying biomarker relationships. With this method, it will consist of an encoder which compresses the input data into low dimensional latent representation and a decoder that will reconstruct the original input from the latent representation. The loss function will be the mean squared error between the original input and the reconstructed output to minimize reconstruction error. Once trained we can use a clustering algorithm like K-means, which will identify potential subgroups of patients with similar biomarker profiles. \n",
    "\n",
    "To test out this solution, we can use cross validation by splitting the dataset into multiple training and validation sets. Then we will be able to see how consistently the autoencoder performs across different data splits to ensure robustness. Another test we can use is compare with published research to ensure that the patterns we found in the latent space aligns with that. For example, if clusters with high PSA levels or specific combinations of biomarkers should match expectations based on real life data. \n",
    "\n",
    "To ensure our solution is reproducible, we will provide clear and detailed documentation that includes steps like training, clustering, and evalutions. We will also provide a `requirements.txt` file with all library dependencies and set random seeds to ensure consistent results. "
   ]
  },
  {
   "cell_type": "markdown",
   "metadata": {},
   "source": [
    "# Evaluation Metrics\n",
    "With the autoencoder, we can measure the MSE between the input and reconstructed output as an evaluation metric. \n",
    "$$\\text{MSE} = \\frac{1}{n} \\sum_{i=1}^{n} (x_i - \\hat{x}_i)^2$$\n",
    "where $x_i$ is the original input and $\\hat{x}_i$ is the reconstructed output. A lower MSE indicates that the autoencoder effectively retains important information from the original data. "
   ]
  },
  {
   "cell_type": "markdown",
   "metadata": {},
   "source": [
    "# Ethics & Privacy"
   ]
  },
  {
   "cell_type": "markdown",
   "metadata": {},
   "source": [
    "As stated by the prompt for this section, almost every ML project has ethical implications. A ML project in the healthcare industry is certain to have ethical implications \n",
    "\n",
    "The primary ethical issue that arises with our project about the dataset itself and the concept of patient data confidentiality. Patient data confidentially means that a patient's health information cannot be used or shared without your written consent, unless certain laws allow it. Although our dataset does not elaborate on the origin of their data besides stating that it is webscraper from “12 Health data Websites,” I believe that our data is ethically sourced due to the fact that these health data websites would certainly be shut down and sued if found exposing patient’s healthcare data without consent. The Health Insurance Portability and Accountability Act (HIPAA) and General Data Protection Regulation (GDPR) both help protect our healthcare data from being stolen.\n",
    "\n",
    "Another ethical consideration is potential bias in the dataset. If the dataset that we use to train our neural network is disproportionately represented by people from specific demographic groups, the neural network may produce results that misdiagnose groups of people that are not represented correctly in the dataset. We must ensure that the dataset we use is diverse so that our model is fair and accurate. Although we do not have an ethnicity parameter for our dataset, we do have an “Race_African_Ancestry” parameter which 20% of our dataset has as true. This leads me to believe that we will not have an issue of underrepresentation due to 13.7% of the population that our dataset was drawn from (the United States) being of African ancestry. Olabanjo and his team discussed the fact that developing countries have a higher prevalence and mortality rate of prostate cancer, even if the work done in this project is based on a dataset from the United States population, hopefully the results can be used to reduce the amount of prostate cancer around the world.\n",
    "\n",
    "Over-reliance on AI models in medical decision making is another risk we must consider. Neural networks, such as the one we propose to make, should be used to assist in diagnosis but not be used as a replacement. Physicians will need to remain present and confirm the results given by a machine learning model. AI models may not have all the contextual information needed to give a correct diagnosis. As a society, we need to use the outputs of these large language models as recommendations that can be used to assist medical professions in their work, but not be used to replace them completely.\n",
    "\n",
    "The last ethical consideration we have is the idea of informed consent. From student athletes  getting a routine check up to elderly men getting a digital rectal exam for prostate cancer, patients should be aware of how and when their healthcare data is being used. Patients should be given the option to keep their data private. This consideration is more important for the creator of the dataset we are using, but we believed that we should explore it nonetheless.\n",
    "\n",
    "If there are any future ethical problems caused by neural networks in healthcare, as a society, we need to be ready to recognize when this happens and how to deal with it. We imagine that in the future, healthcare companies will employ huge numbers of data scientists for this exact purpose. \n"
   ]
  },
  {
   "cell_type": "markdown",
   "metadata": {},
   "source": [
    "# Team Expectations "
   ]
  },
  {
   "cell_type": "markdown",
   "metadata": {},
   "source": [
    "We will use text as our main form of communication. Please respond to any text within 24 hours and let us know if you cannot make a meeting and would like to reschedule at least 1 hour before the meeting takes place. We will meet on Zoom with a link that Daniel will send to our groupchat. Please get your work done by the agreed time and let us know if you will not be able to so we can try to adjust our strategy. Review the timeline proposal and team expectations to see how each person feels about each part and determine what needs to be changed."
   ]
  },
  {
   "cell_type": "markdown",
   "metadata": {},
   "source": [
    "# Project Timeline Proposal"
   ]
  },
  {
   "cell_type": "markdown",
   "metadata": {},
   "source": [
    "| Meeting Date  | Meeting Time| Completed Before Meeting  | Discuss at Meeting |\n",
    "|---|---|---|---|\n",
    "| 2/10  |  5 PM |  Get yourself familiar with Project Proposal  | Determine best form of communication; Discuss potential project ideas; Meet each other | \n",
    "| 2/12  |  11 AM |  Do background research potential topic ideas | Determine which project we will propose; decide roles for project proposal | \n",
    "| 2/14  | 11 AM  | Edit, finalize, and submit proposal  | Discuss Wrangling and possible analytical approaches; Assign group members to lead each specific part |\n",
    "| 2/19  | 11 AM  | Do further research on your specific role | Short meeting; Check on each person's progress so far |\n",
    "| 2/25  | 11 AM  | Familiarize yourself with implementations of Neural Networks | Further discuss people's roles and see what needs to be done |\n",
    "| 2/28  | 11 AM  | Get more of your respective work done | See progress; Determine next steps |\n",
    "| 3/03  | 11 AM  | Get more of your respective work done | See progress; Determine next steps |\n",
    "| 3/06  | 11 AM  | Get more of your respective work done | See progress; Determine next steps |\n",
    "| 3/10  | 11 AM  | Get more of your respective work done | See progress; Determine next steps |\n",
    "| 3/13  | 11 AM  | Get more of your respective work done | See progress; Determine next steps |\n",
    "| 3/18  | 11 AM  | Get more of your respective work done | See progress; Determine next steps |\n",
    "| 3/19  | Before 11:59 PM  | NA | Turn in Final Project  |"
   ]
  },
  {
   "cell_type": "markdown",
   "metadata": {},
   "source": [
    "# Footnotes\n",
    "<a name=\"note1\"></a>1.[^](#note1): Roffman, D. A., Hart, G. R., Leapman, M. S., Yu, J. B., Guo, F. L., Ali, I., & Deng, J. (2018, December). Development and validation of a multiparameterized artificial neural network for prostate cancer risk prediction and stratification. *JCO clinical cancer informatics*. https://pmc.ncbi.nlm.nih.gov/articles/PMC6873987/<br>\n",
    "<a name=\"note2\"></a>2.[^](#note2): Esteban, L. M., Borque-Fernando, Á., Escorihuela, M. E., Esteban-Escaño, J., Abascal, J. M., Servian, P., & Morote, J. (2025, February 4). Integrating radiological and clinical data for clinically significant prostate cancer detection with Machine Learning Techniques. *Nature News*. https://www.nature.com/articles/s41598-025-88297-6<br>\n",
    "<a name=\"note3\"></a>3.[^](#note3): Talaat, F. M., El-Sappagh, S., Alnowaiser, K., & Hassan, E. (2024, January 24). Improved prostate cancer diagnosis using a modified ResNet50-based Deep Learning Architecture - BMC Medical Informatics and Decision making. *BioMed Central*. https://bmcmedinformdecismak.biomedcentral.com/articles/10.1186/s12911-024-02419-0<br>\n",
    "<a name=\"note4\"></a>4.[^](#note4): Agrawal, S., & Vagha, S. (2024, August 5). A comprehensive review of Artificial Intelligence in prostate cancer care: State-of-the-art diagnostic tools and future outlook. *Cureus*. https://pmc.ncbi.nlm.nih.gov/articles/PMC11374581/#sec3<br>\n",
    "<a name=\"note5\"></a>5.[^](#note5): Olabanjo, O., Wusu, A., Asokere, M., Afisi, O., Okugbesan, B., Olabanjo, O., Folorunso, O., & Mazzara, M. (2023, September 19). Application of machine learning and deep learning models in prostate cancer diagnosis using Medical Images: A systematic review. *MDPI*. https://www.mdpi.com/2813-2203/2/3/39<br>\n",
    "<a name=\"note6\"></a>6.[^](#note6): Riaz, I., Harmon, S., & Chen, Z. (2024, June 27). Applications of Artificial Intelligence in Prostate Cancer Care: A Path to Enhanced Efficiency and Outcomes. *ASCO Publications*. https://ascopubs.org/doi/10.1200/EDBK_438516<br>"
   ]
  },
  {
   "cell_type": "code",
   "execution_count": null,
   "metadata": {},
   "outputs": [],
   "source": []
  }
 ],
 "metadata": {
  "kernelspec": {
   "display_name": "Python 3",
   "language": "python",
   "name": "python3"
  },
  "language_info": {
   "codemirror_mode": {
    "name": "ipython",
    "version": 3
   },
   "file_extension": ".py",
   "mimetype": "text/x-python",
   "name": "python",
   "nbconvert_exporter": "python",
   "pygments_lexer": "ipython3",
   "version": "3.7.11 (default, Jul 27 2021, 07:03:16) \n[Clang 10.0.0 ]"
  },
  "vscode": {
   "interpreter": {
    "hash": "40d3a090f54c6569ab1632332b64b2c03c39dcf918b08424e98f38b5ae0af88f"
   }
  }
 },
 "nbformat": 4,
 "nbformat_minor": 2
}
